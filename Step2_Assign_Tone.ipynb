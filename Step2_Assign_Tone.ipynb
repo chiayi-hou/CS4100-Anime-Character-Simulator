{
 "cells": [
  {
   "cell_type": "markdown",
   "id": "caab804d",
   "metadata": {},
   "source": [
    "# Task 2: Assign Respond Tone for Target Character's Lines"
   ]
  },
  {
   "cell_type": "code",
   "execution_count": 27,
   "id": "cf70ac39",
   "metadata": {},
   "outputs": [],
   "source": [
    "from transformers import AutoTokenizer, AutoModel\n",
    "import torch\n",
    "import pandas as pd\n",
    "from tqdm import tqdm"
   ]
  },
  {
   "cell_type": "code",
   "execution_count": 31,
   "id": "0e44d93f",
   "metadata": {},
   "outputs": [],
   "source": [
    "# read in csv\n",
    "df_chigiri = pd.read_csv('data/chigiri_pairs_new.csv')"
   ]
  },
  {
   "cell_type": "code",
   "execution_count": 2,
   "id": "3c7c8e12",
   "metadata": {
    "scrolled": true
   },
   "outputs": [
    {
     "data": {
      "application/vnd.jupyter.widget-view+json": {
       "model_id": "44dd593f13e440378d705abfc662e361",
       "version_major": 2,
       "version_minor": 0
      },
      "text/plain": [
       "pytorch_model.bin:   0%|          | 0.00/445M [00:00<?, ?B/s]"
      ]
     },
     "metadata": {},
     "output_type": "display_data"
    },
    {
     "data": {
      "text/plain": [
       "BertModel(\n",
       "  (embeddings): BertEmbeddings(\n",
       "    (word_embeddings): Embedding(32000, 768, padding_idx=0)\n",
       "    (position_embeddings): Embedding(512, 768)\n",
       "    (token_type_embeddings): Embedding(2, 768)\n",
       "    (LayerNorm): LayerNorm((768,), eps=1e-12, elementwise_affine=True)\n",
       "    (dropout): Dropout(p=0.1, inplace=False)\n",
       "  )\n",
       "  (encoder): BertEncoder(\n",
       "    (layer): ModuleList(\n",
       "      (0-11): 12 x BertLayer(\n",
       "        (attention): BertAttention(\n",
       "          (self): BertSdpaSelfAttention(\n",
       "            (query): Linear(in_features=768, out_features=768, bias=True)\n",
       "            (key): Linear(in_features=768, out_features=768, bias=True)\n",
       "            (value): Linear(in_features=768, out_features=768, bias=True)\n",
       "            (dropout): Dropout(p=0.1, inplace=False)\n",
       "          )\n",
       "          (output): BertSelfOutput(\n",
       "            (dense): Linear(in_features=768, out_features=768, bias=True)\n",
       "            (LayerNorm): LayerNorm((768,), eps=1e-12, elementwise_affine=True)\n",
       "            (dropout): Dropout(p=0.1, inplace=False)\n",
       "          )\n",
       "        )\n",
       "        (intermediate): BertIntermediate(\n",
       "          (dense): Linear(in_features=768, out_features=3072, bias=True)\n",
       "          (intermediate_act_fn): GELUActivation()\n",
       "        )\n",
       "        (output): BertOutput(\n",
       "          (dense): Linear(in_features=3072, out_features=768, bias=True)\n",
       "          (LayerNorm): LayerNorm((768,), eps=1e-12, elementwise_affine=True)\n",
       "          (dropout): Dropout(p=0.1, inplace=False)\n",
       "        )\n",
       "      )\n",
       "    )\n",
       "  )\n",
       "  (pooler): BertPooler(\n",
       "    (dense): Linear(in_features=768, out_features=768, bias=True)\n",
       "    (activation): Tanh()\n",
       "  )\n",
       ")"
      ]
     },
     "execution_count": 2,
     "metadata": {},
     "output_type": "execute_result"
    }
   ],
   "source": [
    "# load BERT tokeizeer and model\n",
    "tokenizer = AutoTokenizer.from_pretrained(\"cl-tohoku/bert-base-japanese\", use_fast=False)\n",
    "bert_model = AutoModel.from_pretrained(\"cl-tohoku/bert-base-japanese\")\n",
    "bert_model.eval()"
   ]
  },
  {
   "cell_type": "code",
   "execution_count": 3,
   "id": "321e6ad8",
   "metadata": {},
   "outputs": [],
   "source": [
    "def get_bert_embedding(text):\n",
    "    \"\"\"\n",
    "    Get the bert embedding of the given text. Use mean pooling method to \n",
    "    keep the embedding vector the same size.\n",
    "    \n",
    "    Args:\n",
    "        text: Japanese text to be embedded\n",
    "        \n",
    "    Return:\n",
    "        embedded_vector: 768-d embedded_vector of a sentence\n",
    "    \"\"\"\n",
    "    with torch.no_grad():\n",
    "        # tokenize and get embedding vector for each token\n",
    "        inputs = tokenizer(text, return_tensors=\"pt\", truncation=True, max_length=128)\n",
    "        outputs = bert_model(**inputs)\n",
    "        # [batch_size, seq_len, hidden_size]\n",
    "        hidden_states = outputs.last_hidden_state  \n",
    "        \n",
    "        # identify padding and make it into 0\n",
    "        mask = inputs[\"attention_mask\"].unsqueeze(-1).expand(hidden_states.size())\n",
    "        masked_embeddings = hidden_states * mask\n",
    "        \n",
    "        # do mean pooling to get an average of the tokens\n",
    "        # having 768-d embedding vectors for all sentences\n",
    "        summed = torch.sum(masked_embeddings, dim=1)\n",
    "        counts = torch.clamp(mask.sum(dim=1), min=1e-9)\n",
    "        mean_pooled = summed / counts\n",
    "    return mean_pooled.squeeze().numpy()\n",
    "\n",
    "def sentence_embedding(df, text_column=\"chigiri_line\", output_column=\"embedding\"):\n",
    "    \"\"\"\n",
    "    Embedding function for a whole dataframe. Add a new column for embedding vectors.\n",
    "    \n",
    "    Args:\n",
    "        df: dataframe with text \n",
    "        text_column: column name of where text existed\n",
    "        output_column: column name of where the embedded vectors should be\n",
    "        \n",
    "    Return:\n",
    "        df: updated dataframe with embedded vecotr.\n",
    "    \"\"\"\n",
    "    embeddings = []\n",
    "    for text in tqdm(df[text_column]):\n",
    "        if pd.isna(text) or text.strip() == \"\":\n",
    "            embeddings.append(None)\n",
    "        else:\n",
    "            emb = get_bert_embedding(text)\n",
    "            embeddings.append(emb)\n",
    "    df[output_column] = embeddings\n",
    "    return df"
   ]
  },
  {
   "cell_type": "code",
   "execution_count": 32,
   "id": "05bf2e40",
   "metadata": {},
   "outputs": [
    {
     "name": "stderr",
     "output_type": "stream",
     "text": [
      "100%|█████████████████████████████████████████| 217/217 [00:08<00:00, 26.99it/s]\n"
     ]
    }
   ],
   "source": [
    "# do embedding for chigiri's dataset\n",
    "df_chigiri = sentence_embedding(df_chigiri, text_column=\"chigiri_line\")"
   ]
  },
  {
   "cell_type": "code",
   "execution_count": 33,
   "id": "5ea26124",
   "metadata": {},
   "outputs": [],
   "source": [
    "# save the result for backup\n",
    "# df_chigiri.to_pickle(\"chigiri_with_embedding.pkl\")"
   ]
  },
  {
   "cell_type": "code",
   "execution_count": 34,
   "id": "4a08331e",
   "metadata": {},
   "outputs": [],
   "source": [
    "from sklearn.cluster import KMeans\n",
    "import numpy as np\n",
    "\n",
    "# get out all embedding vectors\n",
    "valid_embeddings = df_chigiri[\"embedding\"].dropna().tolist()\n",
    "X = np.stack(valid_embeddings)\n",
    "\n",
    "# seperate them into 10 clusters\n",
    "kmeans = KMeans(n_clusters=10, random_state=42)\n",
    "df_chigiri.loc[df_chigiri[\"embedding\"].notna(), \"tone_cluster\"] = kmeans.fit_predict(X)\n"
   ]
  },
  {
   "cell_type": "code",
   "execution_count": 35,
   "id": "358598a6",
   "metadata": {
    "scrolled": true
   },
   "outputs": [
    {
     "name": "stdout",
     "output_type": "stream",
     "text": [
      "\n",
      "🟦 Cluster 0 語氣句子:\n"
     ]
    },
    {
     "data": {
      "text/plain": [
       "81    ロック･オフ ロック･オフ… ロック･オフ\n",
       "Name: chigiri_line, dtype: object"
      ]
     },
     "metadata": {},
     "output_type": "display_data"
    },
    {
     "name": "stdout",
     "output_type": "stream",
     "text": [
      "\n",
      "🟦 Cluster 1 語氣句子:\n"
     ]
    },
    {
     "data": {
      "text/plain": [
       "36                          うるせえ 黙れ！\n",
       "37                               黙れ！\n",
       "49                 どけ ぶち抜け！ この滾りに従え！\n",
       "54     見ろ <name>！　見ろ お前ら！ これが 千切豹馬だ！\n",
       "59                  ああ やってみろ！世界一は俺だ！\n",
       "65                             なんか違う\n",
       "68    させるかよ！今度は俺が潰すスピードキングは俺だ、バカメガネ！\n",
       "69          やられっぱなしで終われるかよ！ 届いたぞのろま！\n",
       "70                           お嬢じゃねえよ\n",
       "83                        させるか！切り返し？\n",
       "Name: chigiri_line, dtype: object"
      ]
     },
     "metadata": {},
     "output_type": "display_data"
    },
    {
     "name": "stdout",
     "output_type": "stream",
     "text": [
      "\n",
      "🟦 Cluster 2 語氣句子:\n"
     ]
    },
    {
     "data": {
      "text/plain": [
       "4                  言いたくない\n",
       "5         分かってる でも 言いたくない\n",
       "17     だから言ったじゃん 言いたくないって\n",
       "148     ‪言われたらやりたくなくなった～‬\n",
       "187    やり合うのは初めてだな <name>\n",
       "191        言われなくても覚悟はできてる\n",
       "192            今までにないパターン\n",
       "Name: chigiri_line, dtype: object"
      ]
     },
     "metadata": {},
     "output_type": "display_data"
    },
    {
     "name": "stdout",
     "output_type": "stream",
     "text": [
      "\n",
      "🟦 Cluster 3 語氣句子:\n"
     ]
    },
    {
     "data": {
      "text/plain": [
       "3               髪のケア\n",
       "29             お疲れっす\n",
       "35                はい\n",
       "72             反応も速い\n",
       "89         ロングカウンター？\n",
       "95     ファーストステージ お疲れ\n",
       "108              楽勝！\n",
       "181            敵陣侵入！\n",
       "195          おう 壁２枚な\n",
       "197            全速前進！\n",
       "Name: chigiri_line, dtype: object"
      ]
     },
     "metadata": {},
     "output_type": "display_data"
    },
    {
     "name": "stdout",
     "output_type": "stream",
     "text": [
      "\n",
      "🟦 Cluster 4 語氣句子:\n"
     ]
    },
    {
     "data": {
      "text/plain": [
       "8          え？　俺もカレー食いたいな トレードしようぜ <name> この野菜炒めとどっちを取る？\n",
       "9                                        <name>か　何しに来た？\n",
       "10                                    俺も寝れなくて お前のゴール見てた\n",
       "18                                     だからいいんだって　俺の話はもう\n",
       "20                                         お前に俺の何が分かんだよ\n",
       "23                               うるせえよ おせっかい 俺に構うなっつったろ\n",
       "27                                千切豹馬です 俺が勝ったら黙ってくださいね\n",
       "32                                 別に。てか、もっとやれます。頑張ります。\n",
       "39                                  何やってんだ あいつは… バカなのか？\n",
       "41    やめろ… やめろよ もう やめろ <name> そんなギラついた目で、ボールを追っかけてんじ...\n",
       "Name: chigiri_line, dtype: object"
      ]
     },
     "metadata": {},
     "output_type": "display_data"
    },
    {
     "name": "stdout",
     "output_type": "stream",
     "text": [
      "\n",
      "🟦 Cluster 5 語氣句子:\n"
     ]
    },
    {
     "data": {
      "text/plain": [
       "129                                   ‪速いパス‬ ‪俺と競走する気かよ‬\n",
       "130                                                ‪なっ…‬\n",
       "131                                                ‪直接？‬\n",
       "132                           ‪一歩 足んねえだろ キング‬ ‪俺のほうが速えよ‬\n",
       "133                                           ‪今の潔はヤッバい‬\n",
       "134                                    ‪だな‬　‪止められる気しねえし‬\n",
       "136                                                 ‪ああ‬\n",
       "137                                       ‪オーケー！‬あとは任せろ！\n",
       "140                                                ‪チッ！‬\n",
       "144    ‪おい國神‬　忘れんなよ ‪俺たちはまだ潔に勝ってねえんだ‬ ‪おんなじ悔しさ握りしめて‬待...\n",
       "Name: chigiri_line, dtype: object"
      ]
     },
     "metadata": {},
     "output_type": "display_data"
    },
    {
     "name": "stdout",
     "output_type": "stream",
     "text": [
      "\n",
      "🟦 Cluster 6 語氣句子:\n"
     ]
    },
    {
     "data": {
      "text/plain": [
       "1                        勝ちゃあいい… ねえ\n",
       "22                              くっ…\n",
       "25                         うるせえ　俺は…\n",
       "40                              ハッ…\n",
       "42                               あ…\n",
       "48                       ああ 俺なら…届く！\n",
       "67                          こいつ…速い！\n",
       "79                       えっ… いいよ 俺は\n",
       "80    え～と… あ～ 仲良し絆ごっこしたいなら帰れ ロック･オフ\n",
       "86                      マジかよ… 読まれてた\n",
       "Name: chigiri_line, dtype: object"
      ]
     },
     "metadata": {},
     "output_type": "display_data"
    },
    {
     "name": "stdout",
     "output_type": "stream",
     "text": [
      "\n",
      "🟦 Cluster 7 語氣句子:\n"
     ]
    },
    {
     "data": {
      "text/plain": [
       "47           出せ <name>！\n",
       "87              <name>！\n",
       "106             <name>？\n",
       "111        <name>はどう思う？\n",
       "128    ‪ナイッシュー <name>！‬\n",
       "183         突っ込め<name>！\n",
       "198    <name>だけ斜めに突破した？\n",
       "Name: chigiri_line, dtype: object"
      ]
     },
     "metadata": {},
     "output_type": "display_data"
    },
    {
     "name": "stdout",
     "output_type": "stream",
     "text": [
      "\n",
      "🟦 Cluster 8 語氣句子:\n"
     ]
    },
    {
     "data": {
      "text/plain": [
       "0             じゃあ ここにいるチームＺ 11人が１つのチームってこと？ 全員フォワードなのに？\n",
       "2     俺は　あいつの言ってることが全部正しいとは思ってないよ。 だって 絵心はワールドカップ優勝す...\n",
       "6       っていうか、この作戦で大丈夫なの？ それぞれの武器が通用しなかったら、このままずるずる負けるよ\n",
       "7     勝つ確率、考えたら 使えない武器で時間をムダにするより、蜂楽か國神みたいな相手の嫌がる攻撃を...\n",
       "11                  そりゃ寝られないよな こんなの決めたらストライカーとして最高の瞬間だろ\n",
       "12                  ブルーロックに来る前の俺だったら絶対味わえないような ゴールだったから\n",
       "13                                    空間認識能力が高いんだよ多分 お前\n",
       "14    ほとんどの選手はみんな自分の視野から状況を判断してプレーしている トップスピードで走ってると...\n",
       "15    お前はまだそれを直感でやってるけど、もっと意識的に使えるようになればその目と脳は唯一無二の武...\n",
       "16                                  別に…チームが勝つために言っただけだし\n",
       "Name: chigiri_line, dtype: object"
      ]
     },
     "metadata": {},
     "output_type": "display_data"
    },
    {
     "name": "stdout",
     "output_type": "stream",
     "text": [
      "\n",
      "🟦 Cluster 9 語氣句子:\n"
     ]
    },
    {
     "data": {
      "text/plain": [
       "34     クソ… クソッ！\n",
       "210    クソ… クソッ！\n",
       "Name: chigiri_line, dtype: object"
      ]
     },
     "metadata": {},
     "output_type": "display_data"
    }
   ],
   "source": [
    "# print out the first 10 sentences to check\n",
    "for i in range(10): \n",
    "    print(f\"\\n🟦 Cluster {i} 語氣句子:\")\n",
    "    display(df_chigiri[df_chigiri[\"tone_cluster\"] == i][\"chigiri_line\"].head(10))"
   ]
  },
  {
   "cell_type": "code",
   "execution_count": 36,
   "id": "b27b30c4",
   "metadata": {},
   "outputs": [],
   "source": [
    "# assign name for each cluster\n",
    "dict_group_tone = {\n",
    "    0: \"テンション高めにふざけて・ネタっぽく\", \n",
    "    1: \"怒っている・キレている・強気で挑発的に\",\n",
    "    2: \"言いたくない・感情を隠す・葛藤をにじませる\", \n",
    "    3: \"普通の会話、軽く返す・冷静にリアクション\", \n",
    "    4: \"皮肉っぽく・ぶっきらぼう・子供っぽく拗ねて\", \n",
    "    5: \"悔しさをにじませつつ本音で熱く\", \n",
    "    6: \"焦り・動揺・緊張した様子で\", \n",
    "    7: \"短く叫ぶ・反応を返す・テンポ速く強めに\",\n",
    "    8: \"冷静に説明する・論理的に・分析的に\",\n",
    "    9: \"感情爆発・強く叫ぶ・悔しさや怒りをぶつける\", \n",
    "}"
   ]
  },
  {
   "cell_type": "code",
   "execution_count": 37,
   "id": "ca895d9b",
   "metadata": {},
   "outputs": [],
   "source": [
    "def assign_tone(df, cluster_to_tone, cluster_column=\"tone_cluster\", output_column=\"chigiri_tone\"):\n",
    "    \"\"\"\n",
    "    Update the assigned tone to the original dataframe.\n",
    "    \n",
    "    Args:\n",
    "        df: dataframe with text after clustering\n",
    "        cluster_to_tone (dict): assigned name for each cluster\n",
    "        cluster_column: name of the column where the cluster information existed\n",
    "        output_column: name fo the new column\n",
    "    \n",
    "    \"\"\"\n",
    "    df[output_column] = df[cluster_column].map(cluster_to_tone)\n",
    "    return df\n",
    "\n",
    "df_chigiri_tone = assign_tone(df_chigiri, dict_group_tone)"
   ]
  },
  {
   "cell_type": "code",
   "execution_count": 38,
   "id": "6ce16d9d",
   "metadata": {},
   "outputs": [
    {
     "data": {
      "text/html": [
       "<div>\n",
       "<style scoped>\n",
       "    .dataframe tbody tr th:only-of-type {\n",
       "        vertical-align: middle;\n",
       "    }\n",
       "\n",
       "    .dataframe tbody tr th {\n",
       "        vertical-align: top;\n",
       "    }\n",
       "\n",
       "    .dataframe thead th {\n",
       "        text-align: right;\n",
       "    }\n",
       "</style>\n",
       "<table border=\"1\" class=\"dataframe\">\n",
       "  <thead>\n",
       "    <tr style=\"text-align: right;\">\n",
       "      <th></th>\n",
       "      <th>Unnamed: 0</th>\n",
       "      <th>prev_line</th>\n",
       "      <th>chigiri_line</th>\n",
       "      <th>embedding</th>\n",
       "      <th>tone_cluster</th>\n",
       "      <th>chigiri_tone</th>\n",
       "    </tr>\n",
       "  </thead>\n",
       "  <tbody>\n",
       "    <tr>\n",
       "      <th>0</th>\n",
       "      <td>0</td>\n",
       "      <td>一次セレクションはお前らのいる伍号棟 55名全５チームによる、総当たりリーグ戦 上位２チーム...</td>\n",
       "      <td>じゃあ ここにいるチームＺ 11人が１つのチームってこと？ 全員フォワードなのに？</td>\n",
       "      <td>[0.32861152, 0.10151904, 0.40979138, -0.112925...</td>\n",
       "      <td>8.0</td>\n",
       "      <td>冷静に説明する・論理的に・分析的に</td>\n",
       "    </tr>\n",
       "    <tr>\n",
       "      <th>1</th>\n",
       "      <td>1</td>\n",
       "      <td>勝ちゃあいいんだろ 勝ちゃあ</td>\n",
       "      <td>勝ちゃあいい… ねえ</td>\n",
       "      <td>[-0.044169173, 0.2113115, 0.053375773, -0.2689...</td>\n",
       "      <td>6.0</td>\n",
       "      <td>焦り・動揺・緊張した様子で</td>\n",
       "    </tr>\n",
       "    <tr>\n",
       "      <th>2</th>\n",
       "      <td>2</td>\n",
       "      <td>つうか やっぱチーム全員が フォワードって意味分かんねえ</td>\n",
       "      <td>俺は　あいつの言ってることが全部正しいとは思ってないよ。 だって 絵心はワールドカップ優勝す...</td>\n",
       "      <td>[0.2839429, 0.06686456, 0.33462584, -0.4077513...</td>\n",
       "      <td>8.0</td>\n",
       "      <td>冷静に説明する・論理的に・分析的に</td>\n",
       "    </tr>\n",
       "    <tr>\n",
       "      <th>3</th>\n",
       "      <td>3</td>\n",
       "      <td>何してんの？　千切</td>\n",
       "      <td>髪のケア</td>\n",
       "      <td>[0.16518353, -0.04691266, 0.33033556, -0.18144...</td>\n",
       "      <td>3.0</td>\n",
       "      <td>普通の会話、軽く返す・冷静にリアクション</td>\n",
       "    </tr>\n",
       "    <tr>\n",
       "      <th>4</th>\n",
       "      <td>4</td>\n",
       "      <td>ラスト 千切は？</td>\n",
       "      <td>言いたくない</td>\n",
       "      <td>[0.054298688, -0.24455349, 0.06226331, 0.14399...</td>\n",
       "      <td>2.0</td>\n",
       "      <td>言いたくない・感情を隠す・葛藤をにじませる</td>\n",
       "    </tr>\n",
       "  </tbody>\n",
       "</table>\n",
       "</div>"
      ],
      "text/plain": [
       "   Unnamed: 0                                          prev_line  \\\n",
       "0           0  一次セレクションはお前らのいる伍号棟 55名全５チームによる、総当たりリーグ戦 上位２チーム...   \n",
       "1           1                                     勝ちゃあいいんだろ 勝ちゃあ   \n",
       "2           2                       つうか やっぱチーム全員が フォワードって意味分かんねえ   \n",
       "3           3                                          何してんの？　千切   \n",
       "4           4                                           ラスト 千切は？   \n",
       "\n",
       "                                        chigiri_line  \\\n",
       "0          じゃあ ここにいるチームＺ 11人が１つのチームってこと？ 全員フォワードなのに？   \n",
       "1                                         勝ちゃあいい… ねえ   \n",
       "2  俺は　あいつの言ってることが全部正しいとは思ってないよ。 だって 絵心はワールドカップ優勝す...   \n",
       "3                                               髪のケア   \n",
       "4                                             言いたくない   \n",
       "\n",
       "                                           embedding  tone_cluster  \\\n",
       "0  [0.32861152, 0.10151904, 0.40979138, -0.112925...           8.0   \n",
       "1  [-0.044169173, 0.2113115, 0.053375773, -0.2689...           6.0   \n",
       "2  [0.2839429, 0.06686456, 0.33462584, -0.4077513...           8.0   \n",
       "3  [0.16518353, -0.04691266, 0.33033556, -0.18144...           3.0   \n",
       "4  [0.054298688, -0.24455349, 0.06226331, 0.14399...           2.0   \n",
       "\n",
       "            chigiri_tone  \n",
       "0      冷静に説明する・論理的に・分析的に  \n",
       "1          焦り・動揺・緊張した様子で  \n",
       "2      冷静に説明する・論理的に・分析的に  \n",
       "3   普通の会話、軽く返す・冷静にリアクション  \n",
       "4  言いたくない・感情を隠す・葛藤をにじませる  "
      ]
     },
     "execution_count": 38,
     "metadata": {},
     "output_type": "execute_result"
    }
   ],
   "source": [
    "df_chigiri_tone.head()"
   ]
  },
  {
   "cell_type": "code",
   "execution_count": 39,
   "id": "5d0a72dc",
   "metadata": {},
   "outputs": [],
   "source": [
    "df_chigiri_tone = df_chigiri_tone.drop(columns=[\"embedding\"])\n",
    "df_chigiri_tone.to_csv(\"data/chigiri_train_w_tone_.csv\")"
   ]
  },
  {
   "cell_type": "markdown",
   "id": "81ebac11",
   "metadata": {},
   "source": [
    "Then, I manually check the assigned tone to make sure there isn't huge mistake."
   ]
  }
 ],
 "metadata": {
  "kernelspec": {
   "display_name": "Python 3 (ipykernel)",
   "language": "python",
   "name": "python3"
  },
  "language_info": {
   "codemirror_mode": {
    "name": "ipython",
    "version": 3
   },
   "file_extension": ".py",
   "mimetype": "text/x-python",
   "name": "python",
   "nbconvert_exporter": "python",
   "pygments_lexer": "ipython3",
   "version": "3.9.13"
  }
 },
 "nbformat": 4,
 "nbformat_minor": 5
}
